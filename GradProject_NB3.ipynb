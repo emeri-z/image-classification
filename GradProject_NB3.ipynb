{
 "cells": [
  {
   "cell_type": "markdown",
   "metadata": {},
   "source": [
    "<h1> DS200A Computer Vision Assignment</h1>"
   ]
  },
  {
   "cell_type": "code",
   "execution_count": 98,
   "metadata": {},
   "outputs": [],
   "source": [
    "import seaborn as sns\n",
    "\n",
    "import os\n",
    "import cv2\n",
    "import numpy as np\n",
    "import pandas as pd\n",
    "import matplotlib.pyplot as plt\n",
    "import skimage\n",
    "import sklearn\n",
    "from sklearn import preprocessing\n",
    "from sklearn.svm import SVC\n",
    "from sklearn.neighbors import KNeighborsClassifier\n",
    "\n",
    "from sklearn.ensemble import RandomForestClassifier\n",
    "from sklearn.feature_selection import RFE\n",
    "\n",
    "from sklearn.preprocessing import StandardScaler\n",
    "from sklearn.model_selection import train_test_split\n",
    "from sklearn.model_selection import GridSearchCV\n",
    "from sklearn.model_selection import RandomizedSearchCV\n",
    "\n",
    "from sklearn.linear_model import LogisticRegression\n",
    "from sklearn import tree\n",
    "from sklearn.datasets import make_classification\n",
    "from sklearn import svm\n",
    "from sklearn.svm import SVC\n",
    "\n",
    "from sklearn.linear_model import LassoCV\n",
    "from sklearn.tree import DecisionTreeClassifier\n",
    "\n",
    "\n",
    "from sklearn import metrics\n",
    "from sklearn.metrics import accuracy_score\n",
    "from sklearn.metrics import auc\n",
    "from sklearn.metrics import roc_curve\n",
    "%matplotlib inline\n",
    "\n",
    "import warnings\n",
    "warnings.filterwarnings('ignore')\n",
    "\n",
    "from sklearn.model_selection import KFold\n",
    "from sklearn.model_selection import cross_validate\n",
    "from sklearn.model_selection import cross_val_score"
   ]
  },
  {
   "cell_type": "code",
   "execution_count": 99,
   "metadata": {},
   "outputs": [],
   "source": [
    "features = pd.read_pickle('./features_flattened.pkl') "
   ]
  },
  {
   "cell_type": "code",
   "execution_count": 100,
   "metadata": {},
   "outputs": [
    {
     "data": {
      "text/html": [
       "<div>\n",
       "<style scoped>\n",
       "    .dataframe tbody tr th:only-of-type {\n",
       "        vertical-align: middle;\n",
       "    }\n",
       "\n",
       "    .dataframe tbody tr th {\n",
       "        vertical-align: top;\n",
       "    }\n",
       "\n",
       "    .dataframe thead th {\n",
       "        text-align: right;\n",
       "    }\n",
       "</style>\n",
       "<table border=\"1\" class=\"dataframe\">\n",
       "  <thead>\n",
       "    <tr style=\"text-align: right;\">\n",
       "      <th></th>\n",
       "      <th>size</th>\n",
       "      <th>aspect_ratio</th>\n",
       "      <th>r_mean</th>\n",
       "      <th>r_std</th>\n",
       "      <th>g_mean</th>\n",
       "      <th>g_std</th>\n",
       "      <th>b_mean</th>\n",
       "      <th>b_std</th>\n",
       "      <th>luminance_mean</th>\n",
       "      <th>luminance_std</th>\n",
       "      <th>...</th>\n",
       "      <th>brief</th>\n",
       "      <th>orb</th>\n",
       "      <th>sift_kp</th>\n",
       "      <th>surf_kp</th>\n",
       "      <th>canny_edges</th>\n",
       "      <th>prewitt_h</th>\n",
       "      <th>prewitt_v</th>\n",
       "      <th>binarize</th>\n",
       "      <th>harris</th>\n",
       "      <th>shi_tomasi</th>\n",
       "    </tr>\n",
       "  </thead>\n",
       "  <tbody>\n",
       "    <tr>\n",
       "      <th>0</th>\n",
       "      <td>195816</td>\n",
       "      <td>2.426829</td>\n",
       "      <td>183.355727</td>\n",
       "      <td>56.406650</td>\n",
       "      <td>176.750337</td>\n",
       "      <td>64.039966</td>\n",
       "      <td>149.151581</td>\n",
       "      <td>79.648356</td>\n",
       "      <td>166.791454</td>\n",
       "      <td>53.495949</td>\n",
       "      <td>...</td>\n",
       "      <td>38</td>\n",
       "      <td>398</td>\n",
       "      <td>340</td>\n",
       "      <td>266</td>\n",
       "      <td>3819</td>\n",
       "      <td>-194.894118</td>\n",
       "      <td>4.385381e-15</td>\n",
       "      <td>0.513160</td>\n",
       "      <td>121.392454</td>\n",
       "      <td>125.92</td>\n",
       "    </tr>\n",
       "    <tr>\n",
       "      <th>1</th>\n",
       "      <td>221352</td>\n",
       "      <td>2.179348</td>\n",
       "      <td>210.739822</td>\n",
       "      <td>55.293247</td>\n",
       "      <td>189.280101</td>\n",
       "      <td>74.486619</td>\n",
       "      <td>164.805242</td>\n",
       "      <td>70.417988</td>\n",
       "      <td>181.672576</td>\n",
       "      <td>56.847182</td>\n",
       "      <td>...</td>\n",
       "      <td>52</td>\n",
       "      <td>413</td>\n",
       "      <td>207</td>\n",
       "      <td>203</td>\n",
       "      <td>1817</td>\n",
       "      <td>-34.841830</td>\n",
       "      <td>-1.143882e+02</td>\n",
       "      <td>0.842771</td>\n",
       "      <td>115.469323</td>\n",
       "      <td>160.38</td>\n",
       "    </tr>\n",
       "    <tr>\n",
       "      <th>2</th>\n",
       "      <td>194535</td>\n",
       "      <td>2.381818</td>\n",
       "      <td>170.123787</td>\n",
       "      <td>64.391428</td>\n",
       "      <td>147.788681</td>\n",
       "      <td>68.085443</td>\n",
       "      <td>111.753798</td>\n",
       "      <td>89.914294</td>\n",
       "      <td>145.131762</td>\n",
       "      <td>56.089846</td>\n",
       "      <td>...</td>\n",
       "      <td>25</td>\n",
       "      <td>392</td>\n",
       "      <td>466</td>\n",
       "      <td>317</td>\n",
       "      <td>3755</td>\n",
       "      <td>178.556863</td>\n",
       "      <td>3.996803e-14</td>\n",
       "      <td>0.227126</td>\n",
       "      <td>93.911721</td>\n",
       "      <td>142.00</td>\n",
       "    </tr>\n",
       "    <tr>\n",
       "      <th>3</th>\n",
       "      <td>200430</td>\n",
       "      <td>2.311765</td>\n",
       "      <td>152.159752</td>\n",
       "      <td>64.525514</td>\n",
       "      <td>132.648316</td>\n",
       "      <td>62.769907</td>\n",
       "      <td>77.917303</td>\n",
       "      <td>83.412773</td>\n",
       "      <td>129.573314</td>\n",
       "      <td>53.570175</td>\n",
       "      <td>...</td>\n",
       "      <td>32</td>\n",
       "      <td>396</td>\n",
       "      <td>575</td>\n",
       "      <td>382</td>\n",
       "      <td>5270</td>\n",
       "      <td>-252.338562</td>\n",
       "      <td>2.062941e+02</td>\n",
       "      <td>0.212932</td>\n",
       "      <td>110.053966</td>\n",
       "      <td>126.54</td>\n",
       "    </tr>\n",
       "    <tr>\n",
       "      <th>4</th>\n",
       "      <td>208560</td>\n",
       "      <td>2.244318</td>\n",
       "      <td>147.397886</td>\n",
       "      <td>73.855439</td>\n",
       "      <td>150.504790</td>\n",
       "      <td>71.385855</td>\n",
       "      <td>86.252963</td>\n",
       "      <td>94.391311</td>\n",
       "      <td>138.168607</td>\n",
       "      <td>62.001119</td>\n",
       "      <td>...</td>\n",
       "      <td>36</td>\n",
       "      <td>407</td>\n",
       "      <td>592</td>\n",
       "      <td>431</td>\n",
       "      <td>4616</td>\n",
       "      <td>-380.200000</td>\n",
       "      <td>-2.003953e-14</td>\n",
       "      <td>0.247828</td>\n",
       "      <td>114.599032</td>\n",
       "      <td>99.30</td>\n",
       "    </tr>\n",
       "  </tbody>\n",
       "</table>\n",
       "<p>5 rows × 25 columns</p>\n",
       "</div>"
      ],
      "text/plain": [
       "     size  aspect_ratio      r_mean      r_std      g_mean      g_std  \\\n",
       "0  195816      2.426829  183.355727  56.406650  176.750337  64.039966   \n",
       "1  221352      2.179348  210.739822  55.293247  189.280101  74.486619   \n",
       "2  194535      2.381818  170.123787  64.391428  147.788681  68.085443   \n",
       "3  200430      2.311765  152.159752  64.525514  132.648316  62.769907   \n",
       "4  208560      2.244318  147.397886  73.855439  150.504790  71.385855   \n",
       "\n",
       "       b_mean      b_std  luminance_mean  luminance_std  ...  brief  orb  \\\n",
       "0  149.151581  79.648356      166.791454      53.495949  ...     38  398   \n",
       "1  164.805242  70.417988      181.672576      56.847182  ...     52  413   \n",
       "2  111.753798  89.914294      145.131762      56.089846  ...     25  392   \n",
       "3   77.917303  83.412773      129.573314      53.570175  ...     32  396   \n",
       "4   86.252963  94.391311      138.168607      62.001119  ...     36  407   \n",
       "\n",
       "   sift_kp  surf_kp  canny_edges   prewitt_h     prewitt_v  binarize  \\\n",
       "0      340      266         3819 -194.894118  4.385381e-15  0.513160   \n",
       "1      207      203         1817  -34.841830 -1.143882e+02  0.842771   \n",
       "2      466      317         3755  178.556863  3.996803e-14  0.227126   \n",
       "3      575      382         5270 -252.338562  2.062941e+02  0.212932   \n",
       "4      592      431         4616 -380.200000 -2.003953e-14  0.247828   \n",
       "\n",
       "       harris  shi_tomasi  \n",
       "0  121.392454      125.92  \n",
       "1  115.469323      160.38  \n",
       "2   93.911721      142.00  \n",
       "3  110.053966      126.54  \n",
       "4  114.599032       99.30  \n",
       "\n",
       "[5 rows x 25 columns]"
      ]
     },
     "execution_count": 100,
     "metadata": {},
     "output_type": "execute_result"
    }
   ],
   "source": [
    "train = features.drop([\"categories\",\"label\"], axis=1)\n",
    "train.head()"
   ]
  },
  {
   "cell_type": "markdown",
   "metadata": {},
   "source": [
    "<h2>  Part Three: Classifier training and performance assessment. </h2>\t"
   ]
  },
  {
   "cell_type": "code",
   "execution_count": 101,
   "metadata": {},
   "outputs": [],
   "source": [
    "def train_test_split(df, labels):\n",
    "    ss= StandardScaler()\n",
    "    df_stand = ss.fit_transform(df.values)\n",
    "    X= df_stand\n",
    "    y=labels\n",
    "#     y = features['label'].values\n",
    "\n",
    "    X_train, X_test, y_train, y_test = sklearn.model_selection.train_test_split(\n",
    "        X, y, test_size=0.2, random_state=42)\n",
    "    y_train=y_train.astype('int')\n",
    "    y_test = y_test.astype('int')\n",
    "    return X_train, X_test, y_train, y_test\n",
    "#Split the data into a training set, and test set "
   ]
  },
  {
   "cell_type": "code",
   "execution_count": 102,
   "metadata": {},
   "outputs": [],
   "source": [
    "def pred_accuracy(name_string, model):\n",
    "        # generate predictions\n",
    "    y_pred = model.predict(X_test)\n",
    "\n",
    "    # calculate accuracy\n",
    "    accuracy = accuracy_score(y_test, y_pred)\n",
    "    print(name_string+ \" \" +'Model accuracy is: ', accuracy)\n",
    "    return accuracy"
   ]
  },
  {
   "cell_type": "code",
   "execution_count": 103,
   "metadata": {},
   "outputs": [],
   "source": [
    "def compute_accuracy(model, X_train, Y_train):\n",
    "    # Computes mean of 5 cross validation on accuracy\n",
    "    \n",
    "    '''\n",
    "    Split the training data into 5 subsets.\n",
    "    For each subset, \n",
    "        fit a model holding out that subset\n",
    "        compute the accuracy on that subset (the validation set)\n",
    "    Return the average MSE of these 5 folds.\n",
    "\n",
    "    Args:\n",
    "        model: an sklearn model with fit and predict functions \n",
    "        X_train (data_frame): Training data\n",
    "        Y_train (data_frame): Label \n",
    "\n",
    "    Return:\n",
    "        the average validation accuracy for the 5 splits.\n",
    "    '''\n",
    "    kf = KFold(n_splits=5)\n",
    "    validation_accuracy = []\n",
    "    \n",
    "    for train_idx, valid_idx in kf.split(X_train):\n",
    "        # split the data\n",
    "        split_X_train, split_X_valid = X_train[train_idx] , X_train[valid_idx]\n",
    "        split_Y_train, split_Y_valid = Y_train[train_idx] , Y_train[valid_idx]\n",
    "        # Fit the model on the training split\n",
    "        model.fit(split_X_train, split_Y_train)\n",
    "        \n",
    "        # Compute the RMSE on the validation split\n",
    "        accuracy = accuracy_score(split_Y_valid, model.predict(split_X_valid))\n",
    "\n",
    "\n",
    "        validation_accuracy.append(accuracy)\n",
    "        \n",
    "    return np.mean(validation_accuracy)"
   ]
  },
  {
   "cell_type": "code",
   "execution_count": 104,
   "metadata": {},
   "outputs": [],
   "source": [
    "def findMinDiff(arr): \n",
    "    #Returns minimum difference of an array and its index\n",
    "    # Initialize difference as infinite \n",
    "    diff = 10**20\n",
    "    index = []\n",
    "      \n",
    "    # Find the min diff by comparing difference \n",
    "    # of all possible pairs in given array \n",
    "    for i in range(0,len(arr)): \n",
    "        for j in range(i+1,len(arr)): \n",
    "            if abs(arr[i]-arr[j]) < diff: \n",
    "                diff = abs(arr[i] - arr[j]) \n",
    "                index = [i+1,j+1]\n",
    "  \n",
    "    # Return min diff \n",
    "    return diff, index"
   ]
  },
  {
   "cell_type": "code",
   "execution_count": 105,
   "metadata": {},
   "outputs": [],
   "source": [
    "def findMaxDiff(arr): \n",
    "    #Returns maximum difference of an array and its index\n",
    "    # Initialize difference as infinite \n",
    "    diff = 0\n",
    "    index=[]\n",
    "      \n",
    "    # Find the min diff by comparing difference \n",
    "    # of all possible pairs in given array \n",
    "    for i in range(13,len(arr)): \n",
    "        for j in range(i+1,len(arr)): \n",
    "            if abs(arr[i]-arr[j]) > diff: \n",
    "                diff = abs(arr[i] - arr[j])    \n",
    "                index = [i+1,j+1]\n",
    "                \n",
    "  \n",
    "    # Return max diff \n",
    "    return diff, index"
   ]
  },
  {
   "cell_type": "code",
   "execution_count": 106,
   "metadata": {},
   "outputs": [],
   "source": [
    "X_train, X_test, y_train, y_test=train_test_split(train, features['label'].values)"
   ]
  },
  {
   "cell_type": "markdown",
   "metadata": {},
   "source": [
    "<h3> SVM"
   ]
  },
  {
   "cell_type": "code",
   "execution_count": 189,
   "metadata": {},
   "outputs": [
    {
     "name": "stdout",
     "output_type": "stream",
     "text": [
      "Trying first 1 features\n",
      "\tAccuracy: 0.17083333333333334\n",
      "Trying first 2 features\n",
      "\tAccuracy: 0.22000000000000003\n",
      "Trying first 3 features\n",
      "\tAccuracy: 0.29333333333333333\n",
      "Trying first 4 features\n",
      "\tAccuracy: 0.2916666666666667\n",
      "Trying first 5 features\n",
      "\tAccuracy: 0.29500000000000004\n",
      "Trying first 6 features\n",
      "\tAccuracy: 0.3125\n",
      "Trying first 7 features\n",
      "\tAccuracy: 0.33166666666666667\n",
      "Trying first 8 features\n",
      "\tAccuracy: 0.3308333333333333\n",
      "Trying first 9 features\n",
      "\tAccuracy: 0.32666666666666666\n",
      "Trying first 10 features\n",
      "\tAccuracy: 0.32333333333333336\n",
      "Trying first 11 features\n",
      "\tAccuracy: 0.31916666666666665\n",
      "Trying first 12 features\n",
      "\tAccuracy: 0.31999999999999995\n",
      "Trying first 13 features\n",
      "\tAccuracy: 0.33916666666666667\n",
      "Trying first 14 features\n",
      "\tAccuracy: 0.34249999999999997\n",
      "Trying first 15 features\n",
      "\tAccuracy: 0.34249999999999997\n",
      "Trying first 16 features\n",
      "\tAccuracy: 0.34833333333333333\n",
      "Trying first 17 features\n",
      "\tAccuracy: 0.36333333333333334\n",
      "Trying first 18 features\n",
      "\tAccuracy: 0.36083333333333334\n",
      "Trying first 19 features\n",
      "\tAccuracy: 0.3591666666666667\n",
      "Trying first 20 features\n",
      "\tAccuracy: 0.3616666666666667\n",
      "Trying first 21 features\n",
      "\tAccuracy: 0.3508333333333334\n",
      "Trying first 22 features\n",
      "\tAccuracy: 0.355\n",
      "Trying first 23 features\n",
      "\tAccuracy: 0.35583333333333333\n",
      "Trying first 24 features\n",
      "\tAccuracy: 0.3633333333333334\n",
      "Trying first 25 features\n",
      "\tAccuracy: 0.36583333333333334\n",
      "SVM best number of features 25\n",
      "KFold Validation Accuracy 0.36583333333333334\n",
      "SVM Test Accuracy 0.39867109634551495\n",
      "Minimum increase in accuracy is from features:  [14, 15]\n",
      "Maximum increase in accuracy is from features:  [14, 25]\n"
     ]
    }
   ],
   "source": [
    "# This code computes 5 fold cross validation on an SVM where it is trained\n",
    "# on models with each successive feature. Finds how many features will result\n",
    "# in the highest accuracy, and predicts on the test set with a model that is \n",
    "# trained on the optimal number of features\n",
    "\n",
    "\n",
    "svm = SVC()\n",
    "range_of_num_features = range(1,X_train.shape[1]+1)\n",
    "accuracy_SVM=[]\n",
    "for N in range_of_num_features:\n",
    "    print(f\"Trying first {N} features\")   \n",
    "    # compute the cross validation accuracy\n",
    "    accuracy = compute_accuracy(svm, X_train[:,:N],y_train)\n",
    "    \n",
    "    print(\"\\tAccuracy:\", accuracy)\n",
    "    accuracy_SVM.append(accuracy)\n",
    "\n",
    "best_num_features_SVM = np.argmax(accuracy_SVM) + 1\n",
    "best_accuracy_SVM = accuracy_SVM[best_num_features_SVM-1]\n",
    "\n",
    "# Fit SVM Model\n",
    "svm.fit(X_train[:, :best_num_features_SVM], y_train)\n",
    "\n",
    "# Predict points from the test set and calculate the accuracy\n",
    "test_accuracy_SVM = accuracy_score(y_test, svm.predict(X_test[:, :best_num_features_SVM]))\n",
    "\n",
    "# Minimum increase in accuracy\n",
    "diff, index = findMinDiff(accuracy_SVM)\n",
    "diff_max, index_max = findMaxDiff(accuracy_SVM)\n",
    "\n",
    "print(\"SVM best number of features\", best_num_features_SVM)\n",
    "print(\"KFold Validation Accuracy\", best_accuracy_SVM)\n",
    "print(\"SVM Test Accuracy\", test_accuracy_SVM)\n",
    "print(\"Minimum increase in accuracy is from features: \", index)\n",
    "print(\"Maximum increase in accuracy is from features: \", index_max)"
   ]
  },
  {
   "cell_type": "code",
   "execution_count": 190,
   "metadata": {},
   "outputs": [
    {
     "name": "stdout",
     "output_type": "stream",
     "text": [
      "SVM Model accuracy is:  0.42857142857142855\n"
     ]
    },
    {
     "data": {
      "text/plain": [
       "0.42857142857142855"
      ]
     },
     "execution_count": 190,
     "metadata": {},
     "output_type": "execute_result"
    }
   ],
   "source": [
    "#Final SVM model\n",
    "svm = SVC(kernel='linear', C=10,probability=True, random_state=42)\n",
    "#C=1: Accuracy 0.0.40863787375415284\n",
    "#C=10: Accuracy 0.42857142857142855\n",
    "#C=50: Accuracy 0.40863787375415284\n",
    "#C=100: Accuracy 0.4019933554817276\n",
    "\n",
    "# SVM Gaussian Model accuracy is:  0.39867109634551495\n",
    "# SVM Sigmoid Model accuracy is:  0.30564784053156147\n",
    "# SVM Poly Model accuracy is:  0.20930232558139536\n",
    "\n",
    "# fit model\n",
    "svm.fit(X_train, y_train)\n",
    "pred_accuracy('SVM', svm)"
   ]
  },
  {
   "cell_type": "markdown",
   "metadata": {},
   "source": [
    "<h3>KNN"
   ]
  },
  {
   "cell_type": "code",
   "execution_count": 191,
   "metadata": {},
   "outputs": [
    {
     "name": "stdout",
     "output_type": "stream",
     "text": [
      "KNN Model accuracy is:  0.34551495016611294\n"
     ]
    },
    {
     "data": {
      "text/plain": [
       "0.34551495016611294"
      ]
     },
     "execution_count": 191,
     "metadata": {},
     "output_type": "execute_result"
    }
   ],
   "source": [
    "knn = KNeighborsClassifier()\n",
    "knn.fit(X_train, y_train)\n",
    "pred_accuracy(\"KNN\",knn)"
   ]
  },
  {
   "cell_type": "code",
   "execution_count": 192,
   "metadata": {},
   "outputs": [
    {
     "name": "stdout",
     "output_type": "stream",
     "text": [
      "Trying first 1 features\n",
      "\tAccuracy: 0.19833333333333333\n",
      "Trying first 2 features\n",
      "\tAccuracy: 0.23166666666666663\n",
      "Trying first 3 features\n",
      "\tAccuracy: 0.25\n",
      "Trying first 4 features\n",
      "\tAccuracy: 0.26\n",
      "Trying first 5 features\n",
      "\tAccuracy: 0.25166666666666665\n",
      "Trying first 6 features\n",
      "\tAccuracy: 0.2541666666666667\n",
      "Trying first 7 features\n",
      "\tAccuracy: 0.2633333333333333\n",
      "Trying first 8 features\n",
      "\tAccuracy: 0.27749999999999997\n",
      "Trying first 9 features\n",
      "\tAccuracy: 0.2733333333333333\n",
      "Trying first 10 features\n",
      "\tAccuracy: 0.27166666666666667\n",
      "Trying first 11 features\n",
      "\tAccuracy: 0.2675\n",
      "Trying first 12 features\n",
      "\tAccuracy: 0.2783333333333334\n",
      "Trying first 13 features\n",
      "\tAccuracy: 0.2816666666666666\n",
      "Trying first 14 features\n",
      "\tAccuracy: 0.275\n",
      "Trying first 15 features\n",
      "\tAccuracy: 0.2816666666666666\n",
      "Trying first 16 features\n",
      "\tAccuracy: 0.26833333333333337\n",
      "Trying first 17 features\n",
      "\tAccuracy: 0.2975\n",
      "Trying first 18 features\n",
      "\tAccuracy: 0.29999999999999993\n",
      "Trying first 19 features\n",
      "\tAccuracy: 0.3\n",
      "Trying first 20 features\n",
      "\tAccuracy: 0.2975\n",
      "Trying first 21 features\n",
      "\tAccuracy: 0.29416666666666663\n",
      "Trying first 22 features\n",
      "\tAccuracy: 0.2916666666666667\n",
      "Trying first 23 features\n",
      "\tAccuracy: 0.2925\n",
      "Trying first 24 features\n",
      "\tAccuracy: 0.29833333333333334\n",
      "Trying first 25 features\n",
      "\tAccuracy: 0.30249999999999994\n",
      "KNN best number of features 25\n",
      "KFold Validation Accuracy 0.30249999999999994\n",
      "KNN Test Accuracy 0.34551495016611294\n",
      "Minimum increase in accuracy is from features:  [13, 15]\n",
      "Maximum increase in accuracy is from features:  [16, 25]\n"
     ]
    }
   ],
   "source": [
    "range_of_num_features = range(1,X_train.shape[1]+1)\n",
    "accuracy_KNN=[]\n",
    "for N in range_of_num_features:\n",
    "    print(f\"Trying first {N} features\")   \n",
    "    # compute the cross validation accuracy\n",
    "    accuracy = compute_accuracy(knn, X_train[:,:N],y_train)\n",
    "    \n",
    "    print(\"\\tAccuracy:\", accuracy)\n",
    "    accuracy_KNN.append(accuracy)\n",
    "\n",
    "best_num_features_KNN = np.argmax(accuracy_KNN) + 1\n",
    "best_accuracy_KNN = accuracy_KNN[best_num_features_KNN-1]\n",
    "\n",
    "# Fit KNN Model\n",
    "knn.fit(X_train[:, :best_num_features_KNN], y_train)\n",
    "\n",
    "# Predict points from the test set and calculate the accuracy\n",
    "test_accuracy_KNN = accuracy_score(y_test, knn.predict(X_test[:, :best_num_features_KNN]))\n",
    "\n",
    "# Minimum increase in accuracy\n",
    "diff_min, index_min = findMinDiff(accuracy_KNN)\n",
    "diff_max, index_max = findMaxDiff(accuracy_KNN)\n",
    "\n",
    "print(\"KNN best number of features\", best_num_features_KNN)\n",
    "print(\"KFold Validation Accuracy\", best_accuracy_KNN)\n",
    "print(\"KNN Test Accuracy\", test_accuracy_KNN)\n",
    "print(\"Minimum increase in accuracy is from features: \", index_min)\n",
    "print(\"Maximum increase in accuracy is from features: \", index_max)"
   ]
  },
  {
   "cell_type": "code",
   "execution_count": 193,
   "metadata": {},
   "outputs": [
    {
     "name": "stdout",
     "output_type": "stream",
     "text": [
      "KNN Model accuracy is:  0.2956810631229236\n",
      "KNN Model accuracy is:  0.2724252491694352\n",
      "KNN Model accuracy is:  0.3089700996677741\n",
      "KNN Model accuracy is:  0.32558139534883723\n",
      "KNN Model accuracy is:  0.34551495016611294\n",
      "KNN Model accuracy is:  0.3388704318936877\n",
      "KNN Model accuracy is:  0.3687707641196013\n",
      "KNN Model accuracy is:  0.3754152823920266\n",
      "KNN Model accuracy is:  0.38205980066445183\n",
      "KNN Model accuracy is:  0.38205980066445183\n",
      "KNN Model accuracy is:  0.37209302325581395\n",
      "KNN Model accuracy is:  0.36212624584717606\n",
      "KNN Model accuracy is:  0.36212624584717606\n",
      "KNN Model accuracy is:  0.3687707641196013\n",
      "KNN Model accuracy is:  0.3554817275747508\n",
      "KNN Model accuracy is:  0.36212624584717606\n",
      "KNN Model accuracy is:  0.3654485049833887\n",
      "KNN Model accuracy is:  0.3521594684385382\n",
      "KNN Model accuracy is:  0.34551495016611294\n"
     ]
    }
   ],
   "source": [
    "n_neighbors= np.arange(1,20)\n",
    "accuracies=[]\n",
    "for n in n_neighbors:\n",
    "    kn= KNeighborsClassifier(n_neighbors=n)\n",
    "    kn.fit(X_train, y_train)\n",
    "    train_pred = kn.predict(X_train)\n",
    "#     print(n)\n",
    "    n = pred_accuracy(\"KNN\",kn)\n",
    "    accuracies.append(n)"
   ]
  },
  {
   "cell_type": "code",
   "execution_count": 194,
   "metadata": {},
   "outputs": [
    {
     "data": {
      "image/png": "[encoded data removed]",
      "text/plain": [
       "<Figure size 432x288 with 1 Axes>"
      ]
     },
     "metadata": {
      "needs_background": "light"
     },
     "output_type": "display_data"
    }
   ],
   "source": [
    "plt.plot(accuracies)\n",
    "plt.ylabel(\"Accuracy\")\n",
    "plt.xlabel(\"KNN\")\n",
    "plt.title(\"KNN Model Accuracy\")\n",
    "plt.show()"
   ]
  },
  {
   "cell_type": "code",
   "execution_count": 195,
   "metadata": {},
   "outputs": [
    {
     "name": "stdout",
     "output_type": "stream",
     "text": [
      "KNN Model accuracy is:  0.38205980066445183\n"
     ]
    },
    {
     "data": {
      "text/plain": [
       "0.38205980066445183"
      ]
     },
     "execution_count": 195,
     "metadata": {},
     "output_type": "execute_result"
    }
   ],
   "source": [
    "#Final KNN\n",
    "knn = KNeighborsClassifier(n_neighbors=10,p=2)\n",
    "knn.fit(X_train, y_train)\n",
    "pred_accuracy(\"KNN\",knn)"
   ]
  },
  {
   "cell_type": "markdown",
   "metadata": {},
   "source": [
    "<h3> Logistic Regression"
   ]
  },
  {
   "cell_type": "code",
   "execution_count": 197,
   "metadata": {},
   "outputs": [
    {
     "name": "stdout",
     "output_type": "stream",
     "text": [
      "Trying first 1 features\n",
      "\tAccuracy: 0.18166666666666664\n",
      "Trying first 2 features\n",
      "\tAccuracy: 0.2333333333333333\n",
      "Trying first 3 features\n",
      "\tAccuracy: 0.29\n",
      "Trying first 4 features\n",
      "\tAccuracy: 0.2983333333333333\n",
      "Trying first 5 features\n",
      "\tAccuracy: 0.315\n",
      "Trying first 6 features\n",
      "\tAccuracy: 0.33083333333333337\n",
      "Trying first 7 features\n",
      "\tAccuracy: 0.345\n",
      "Trying first 8 features\n",
      "\tAccuracy: 0.3516666666666667\n",
      "Trying first 9 features\n",
      "\tAccuracy: 0.3516666666666667\n",
      "Trying first 10 features\n",
      "\tAccuracy: 0.36583333333333334\n",
      "Trying first 11 features\n",
      "\tAccuracy: 0.36583333333333334\n",
      "Trying first 12 features\n",
      "\tAccuracy: 0.3616666666666667\n",
      "Trying first 13 features\n",
      "\tAccuracy: 0.3616666666666667\n",
      "Trying first 14 features\n",
      "\tAccuracy: 0.37583333333333335\n",
      "Trying first 15 features\n",
      "\tAccuracy: 0.3825\n",
      "Trying first 16 features\n",
      "\tAccuracy: 0.38416666666666666\n",
      "Trying first 17 features\n",
      "\tAccuracy: 0.4083333333333333\n",
      "Trying first 18 features\n",
      "\tAccuracy: 0.40166666666666667\n",
      "Trying first 19 features\n",
      "\tAccuracy: 0.3991666666666666\n",
      "Trying first 20 features\n",
      "\tAccuracy: 0.4166666666666667\n",
      "Trying first 21 features\n",
      "\tAccuracy: 0.4141666666666667\n",
      "Trying first 22 features\n",
      "\tAccuracy: 0.4125\n",
      "Trying first 23 features\n",
      "\tAccuracy: 0.4141666666666667\n",
      "Trying first 24 features\n",
      "\tAccuracy: 0.41583333333333333\n",
      "Trying first 25 features\n",
      "\tAccuracy: 0.4149999999999999\n",
      "Logistic Regression best number of features 20\n",
      "KFold Validation Accuracy 0.4166666666666667\n",
      "Logistic Regression Test Accuracy 0.42524916943521596\n",
      "Minimum increase in accuracy is from features:  [8, 9]\n",
      "Maximum increase in accuracy is from features:  [14, 20]\n"
     ]
    }
   ],
   "source": [
    "range_of_num_features = range(1,X_train.shape[1]+1)\n",
    "accuracy_LR=[]\n",
    "for N in range_of_num_features:\n",
    "    print(f\"Trying first {N} features\")   \n",
    "    # compute the cross validation accuracy\n",
    "    accuracy = compute_accuracy(logisticRegr, X_train[:,:N],y_train)\n",
    "    \n",
    "    print(\"\\tAccuracy:\", accuracy)\n",
    "    accuracy_LR.append(accuracy)\n",
    "\n",
    "best_num_features_LR = np.argmax(accuracy_LR) + 1\n",
    "best_accuracy_LR = accuracy_LR[best_num_features_LR-1]\n",
    "\n",
    "# Fit Logistic Regression Model\n",
    "logisticRegr.fit(X_train[:, :best_num_features_LR], y_train)\n",
    "\n",
    "# Predict points from the test set and calculate the accuracy\n",
    "test_accuracy_LR = accuracy_score(y_test, logisticRegr.predict(X_test[:, :best_num_features_LR]))\n",
    "\n",
    "# Minimum increase in accuracy\n",
    "diff, index = findMinDiff(accuracy_LR)\n",
    "diff_max, index_max = findMaxDiff(accuracy_LR)\n",
    "\n",
    "print(\"Logistic Regression best number of features\", best_num_features_LR)\n",
    "print(\"KFold Validation Accuracy\", best_accuracy_LR)\n",
    "print(\"Logistic Regression Test Accuracy\", test_accuracy_LR)\n",
    "print(\"Minimum increase in accuracy is from features: \", index)\n",
    "print(\"Maximum increase in accuracy is from features: \", index_max)"
   ]
  },
  {
   "cell_type": "code",
   "execution_count": 198,
   "metadata": {},
   "outputs": [
    {
     "name": "stdout",
     "output_type": "stream",
     "text": [
      "Logistic Model accuracy is:  0.3920265780730897\n",
      "Logistic Model accuracy is:  0.3953488372093023\n",
      "Logistic Model accuracy is:  0.4053156146179402\n",
      "Logistic Model accuracy is:  0.40863787375415284\n",
      "Logistic Model accuracy is:  0.4053156146179402\n"
     ]
    },
    {
     "data": {
      "text/plain": [
       "0.4053156146179402"
      ]
     },
     "execution_count": 198,
     "metadata": {},
     "output_type": "execute_result"
    }
   ],
   "source": [
    "logisticRegr = LogisticRegression(C=5,penalty='l1')\n",
    "logisticRegr.fit(X_train, y_train)\n",
    "pred_accuracy(\"Logistic\",logisticRegr)\n",
    "\n",
    "logisticRegr = LogisticRegression(C=10,penalty='l1')\n",
    "logisticRegr.fit(X_train, y_train)\n",
    "pred_accuracy(\"Logistic\",logisticRegr)\n",
    "\n",
    "logisticRegr = LogisticRegression(C=20,penalty='l1')\n",
    "logisticRegr.fit(X_train, y_train)\n",
    "pred_accuracy(\"Logistic\",logisticRegr)\n",
    "\n",
    "logisticRegr = LogisticRegression(C=25,penalty='l1')\n",
    "logisticRegr.fit(X_train, y_train)\n",
    "pred_accuracy(\"Logistic\",logisticRegr)\n",
    "\n",
    "logisticRegr = LogisticRegression(C=30,penalty='l1')\n",
    "logisticRegr.fit(X_train, y_train)\n",
    "pred_accuracy(\"Logistic\",logisticRegr)"
   ]
  },
  {
   "cell_type": "code",
   "execution_count": 199,
   "metadata": {},
   "outputs": [
    {
     "name": "stdout",
     "output_type": "stream",
     "text": [
      "Logistic Model accuracy is:  0.38870431893687707\n",
      "Logistic Model accuracy is:  0.4053156146179402\n",
      "Logistic Model accuracy is:  0.40863787375415284\n",
      "Logistic Model accuracy is:  0.4152823920265781\n",
      "Logistic Model accuracy is:  0.4152823920265781\n",
      "Logistic Model accuracy is:  0.4119601328903654\n"
     ]
    },
    {
     "data": {
      "text/plain": [
       "0.4119601328903654"
      ]
     },
     "execution_count": 199,
     "metadata": {},
     "output_type": "execute_result"
    }
   ],
   "source": [
    "logisticRegr = LogisticRegression(C=5,penalty='l2')\n",
    "logisticRegr.fit(X_train, y_train)\n",
    "pred_accuracy(\"Logistic\",logisticRegr)\n",
    "\n",
    "logisticRegr = LogisticRegression(C=10,penalty='l2')\n",
    "logisticRegr.fit(X_train, y_train)\n",
    "pred_accuracy(\"Logistic\",logisticRegr)\n",
    "\n",
    "logisticRegr = LogisticRegression(C=15,penalty='l2')\n",
    "logisticRegr.fit(X_train, y_train)\n",
    "pred_accuracy(\"Logistic\",logisticRegr)\n",
    "\n",
    "logisticRegr = LogisticRegression(C=20,penalty='l2')\n",
    "logisticRegr.fit(X_train, y_train)\n",
    "pred_accuracy(\"Logistic\",logisticRegr)\n",
    "\n",
    "logisticRegr = LogisticRegression(C=25,penalty='l2')\n",
    "logisticRegr.fit(X_train, y_train)\n",
    "pred_accuracy(\"Logistic\",logisticRegr)\n",
    "\n",
    "logisticRegr = LogisticRegression(C=30,penalty='l2')\n",
    "logisticRegr.fit(X_train, y_train)\n",
    "pred_accuracy(\"Logistic\",logisticRegr)"
   ]
  },
  {
   "cell_type": "code",
   "execution_count": 201,
   "metadata": {},
   "outputs": [
    {
     "name": "stdout",
     "output_type": "stream",
     "text": [
      "Logistic Model accuracy is:  0.4152823920265781\n"
     ]
    },
    {
     "data": {
      "text/plain": [
       "0.4152823920265781"
      ]
     },
     "execution_count": 201,
     "metadata": {},
     "output_type": "execute_result"
    }
   ],
   "source": [
    "#Final Logistic Regression\n",
    "\n",
    "logisticRegr = LogisticRegression(C=20,penalty='l2')\n",
    "logisticRegr.fit(X_train, y_train)\n",
    "pred_accuracy(\"Logistic\",logisticRegr)"
   ]
  },
  {
   "cell_type": "markdown",
   "metadata": {},
   "source": [
    "<h3> Classification Tree\n",
    "    "
   ]
  },
  {
   "cell_type": "code",
   "execution_count": 109,
   "metadata": {},
   "outputs": [
    {
     "name": "stdout",
     "output_type": "stream",
     "text": [
      "Trying first 1 features\n",
      "\tAccuracy: 0.19166666666666668\n",
      "Trying first 2 features\n",
      "\tAccuracy: 0.26583333333333337\n",
      "Trying first 3 features\n",
      "\tAccuracy: 0.29083333333333333\n",
      "Trying first 4 features\n",
      "\tAccuracy: 0.29\n",
      "Trying first 5 features\n",
      "\tAccuracy: 0.28250000000000003\n",
      "Trying first 6 features\n",
      "\tAccuracy: 0.2866666666666667\n",
      "Trying first 7 features\n",
      "\tAccuracy: 0.3175\n",
      "Trying first 8 features\n",
      "\tAccuracy: 0.31999999999999995\n",
      "Trying first 9 features\n",
      "\tAccuracy: 0.31999999999999995\n",
      "Trying first 10 features\n",
      "\tAccuracy: 0.32416666666666666\n",
      "Trying first 11 features\n",
      "\tAccuracy: 0.3075\n",
      "Trying first 12 features\n",
      "\tAccuracy: 0.3083333333333333\n",
      "Trying first 13 features\n",
      "\tAccuracy: 0.3083333333333333\n",
      "Trying first 14 features\n",
      "\tAccuracy: 0.31\n",
      "Trying first 15 features\n",
      "\tAccuracy: 0.31\n",
      "Trying first 16 features\n",
      "\tAccuracy: 0.3066666666666667\n",
      "Trying first 17 features\n",
      "\tAccuracy: 0.30500000000000005\n",
      "Trying first 18 features\n",
      "\tAccuracy: 0.3016666666666667\n",
      "Trying first 19 features\n",
      "\tAccuracy: 0.29833333333333334\n",
      "Trying first 20 features\n",
      "\tAccuracy: 0.30666666666666664\n",
      "Trying first 21 features\n",
      "\tAccuracy: 0.30666666666666664\n",
      "Trying first 22 features\n",
      "\tAccuracy: 0.30666666666666664\n",
      "Trying first 23 features\n",
      "\tAccuracy: 0.30250000000000005\n",
      "Trying first 24 features\n",
      "\tAccuracy: 0.3041666666666667\n",
      "Trying first 25 features\n",
      "\tAccuracy: 0.2958333333333333\n",
      "Classification Tree best number of features 10\n",
      "KFold Validation Accuracy 0.32416666666666666\n",
      "Classification Tree Test Accuracy 0.31561461794019935\n",
      "Minimum increase in accuracy is from features:  [8, 9]\n",
      "Maximum increase in accuracy is from features:  [14, 25]\n"
     ]
    }
   ],
   "source": [
    "range_of_num_features = range(1,X_train.shape[1]+1)\n",
    "accuracy_dtc=[]\n",
    "for N in range_of_num_features:\n",
    "    print(f\"Trying first {N} features\")   \n",
    "    # compute the cross validation accuracy\n",
    "    accuracy = compute_accuracy(dtc, X_train[:,:N],y_train)\n",
    "    \n",
    "    print(\"\\tAccuracy:\", accuracy)\n",
    "    accuracy_dtc.append(accuracy)\n",
    "\n",
    "best_num_features_dtc = np.argmax(accuracy_dtc) + 1\n",
    "best_accuracy_dtc = accuracy_dtc[best_num_features_dtc-1]\n",
    "\n",
    "# Fit Classification Tree Model\n",
    "dtc.fit(X_train[:, :best_num_features_dtc], y_train)\n",
    "\n",
    "# Predict points from the test set and calculate the accuracy\n",
    "test_accuracy_dtc = accuracy_score(y_test, dtc.predict(X_test[:, :best_num_features_dtc]))\n",
    "\n",
    "# Minimum increase in accuracy\n",
    "diff, index = findMinDiff(accuracy_dtc)\n",
    "diff_max, index_max = findMaxDiff(accuracy_dtc)\n",
    "\n",
    "\n",
    "print(\"Classification Tree best number of features\", best_num_features_dtc)\n",
    "print(\"KFold Validation Accuracy\", best_accuracy_dtc)\n",
    "print(\"Classification Tree Test Accuracy\", test_accuracy_dtc)\n",
    "print(\"Minimum increase in accuracy is from features: \", index)\n",
    "print(\"Maximum increase in accuracy is from features: \", index_max)"
   ]
  },
  {
   "cell_type": "code",
   "execution_count": 108,
   "metadata": {},
   "outputs": [
    {
     "name": "stdout",
     "output_type": "stream",
     "text": [
      "Decision Tree Model accuracy is:  0.30564784053156147\n"
     ]
    },
    {
     "data": {
      "text/plain": [
       "0.30564784053156147"
      ]
     },
     "execution_count": 108,
     "metadata": {},
     "output_type": "execute_result"
    }
   ],
   "source": [
    "#Final DTC\n",
    "\n",
    "dtc = DecisionTreeClassifier(max_depth=16,min_samples_leaf=.04)\n",
    "dtc = dtc.fit(X_train, y_train)\n",
    "pred_accuracy(\"Decision Tree\",dtc)"
   ]
  },
  {
   "cell_type": "markdown",
   "metadata": {},
   "source": [
    "<h3> Random Forest"
   ]
  },
  {
   "cell_type": "code",
   "execution_count": 203,
   "metadata": {
    "scrolled": true
   },
   "outputs": [
    {
     "name": "stdout",
     "output_type": "stream",
     "text": [
      "RFM Model accuracy is:  0.3488372093023256\n"
     ]
    },
    {
     "data": {
      "text/plain": [
       "0.3488372093023256"
      ]
     },
     "execution_count": 203,
     "metadata": {},
     "output_type": "execute_result"
    }
   ],
   "source": [
    "rf = RandomForestClassifier()\n",
    "rf.fit(X_train, y_train)\n",
    "pred_accuracy(\"RFM\",rf)"
   ]
  },
  {
   "cell_type": "code",
   "execution_count": 204,
   "metadata": {},
   "outputs": [
    {
     "data": {
      "text/plain": [
       "RFECV(cv=StratifiedKFold(n_splits=5, random_state=None, shuffle=False),\n",
       "      estimator=RandomForestClassifier(bootstrap=True, class_weight=None,\n",
       "                                       criterion='gini', max_depth=None,\n",
       "                                       max_features='auto', max_leaf_nodes=None,\n",
       "                                       min_impurity_decrease=0.0,\n",
       "                                       min_impurity_split=None,\n",
       "                                       min_samples_leaf=1, min_samples_split=2,\n",
       "                                       min_weight_fraction_leaf=0.0,\n",
       "                                       n_estimators='warn', n_jobs=None,\n",
       "                                       oob_score=False, random_state=101,\n",
       "                                       verbose=0, warm_start=False),\n",
       "      min_features_to_select=1, n_jobs=None, scoring='accuracy', step=1,\n",
       "      verbose=0)"
      ]
     },
     "execution_count": 204,
     "metadata": {},
     "output_type": "execute_result"
    }
   ],
   "source": [
    "#Trying Recursive Feature Elimination for Feature Selection\n",
    "\n",
    "from sklearn.feature_selection import RFECV\n",
    "from sklearn.model_selection import StratifiedKFold\n",
    "\n",
    "rfc = RandomForestClassifier(random_state=101)\n",
    "rfecv = RFECV(estimator=rfc, step=1, cv=StratifiedKFold(5), scoring='accuracy')\n",
    "rfecv.fit(X_train, y_train)"
   ]
  },
  {
   "cell_type": "code",
   "execution_count": 205,
   "metadata": {},
   "outputs": [
    {
     "name": "stdout",
     "output_type": "stream",
     "text": [
      "RF w RFE Model accuracy is:  0.3023255813953488\n"
     ]
    },
    {
     "data": {
      "text/plain": [
       "0.3023255813953488"
      ]
     },
     "execution_count": 205,
     "metadata": {},
     "output_type": "execute_result"
    }
   ],
   "source": [
    "pred_accuracy(\"RF w RFE\",rfecv)"
   ]
  },
  {
   "cell_type": "code",
   "execution_count": 206,
   "metadata": {},
   "outputs": [
    {
     "name": "stdout",
     "output_type": "stream",
     "text": [
      "RFM Model accuracy is:  0.2823920265780731\n",
      "RFM Model accuracy is:  0.2757475083056478\n",
      "RFM Model accuracy is:  0.292358803986711\n",
      "RFM Model accuracy is:  0.29900332225913623\n",
      "RFM Model accuracy is:  0.33554817275747506\n",
      "RFM Model accuracy is:  0.3754152823920266\n",
      "RFM Model accuracy is:  0.4119601328903654\n",
      "RFM Model accuracy is:  0.4318936877076412\n",
      "RFM Model accuracy is:  0.43853820598006643\n"
     ]
    }
   ],
   "source": [
    "n_estimators = [1, 2, 4, 8, 16, 32, 64, 100, 200]\n",
    "\n",
    "accuracies = []\n",
    "for estimator in n_estimators:\n",
    "    rf = RandomForestClassifier(n_estimators=estimator, n_jobs=-1)\n",
    "    rf.fit(X_train, y_train)\n",
    "    train_pred = rf.predict(X_train)\n",
    "    accuracy = accuracy_score(y_train, train_pred)\n",
    "    accuracies.append(accuracy)\n",
    "#     print(estimator)\n",
    "    n= pred_accuracy(\"RFM\",rf)\n",
    "    accuracies.append(n)"
   ]
  },
  {
   "cell_type": "code",
   "execution_count": 207,
   "metadata": {},
   "outputs": [],
   "source": [
    "#Visualize if desired\n",
    "# plt.plot(accuracies)\n",
    "# plt.ylabel(\"Accuracy\")\n",
    "# plt.xlabel(\"RFM\")\n",
    "# plt.title(\"RFM iter n_estimators Model Accuracy\")\n",
    "# plt.show()"
   ]
  },
  {
   "cell_type": "code",
   "execution_count": 208,
   "metadata": {},
   "outputs": [
    {
     "name": "stdout",
     "output_type": "stream",
     "text": [
      "RFM Model accuracy is:  0.42524916943521596\n"
     ]
    },
    {
     "data": {
      "text/plain": [
       "0.42524916943521596"
      ]
     },
     "execution_count": 208,
     "metadata": {},
     "output_type": "execute_result"
    }
   ],
   "source": [
    "#Final RFM\n",
    "rf = RandomForestClassifier(n_estimators=200,max_depth=10, random_state=42, max_features=5)\n",
    "rf.fit(X_train, y_train)\n",
    "pred_accuracy(\"RFM\",rf)"
   ]
  },
  {
   "cell_type": "markdown",
   "metadata": {},
   "source": [
    "<h3> Best Model on Val Set"
   ]
  },
  {
   "cell_type": "code",
   "execution_count": 209,
   "metadata": {},
   "outputs": [
    {
     "name": "stdout",
     "output_type": "stream",
     "text": [
      "SVM Model accuracy is:  0.42857142857142855\n",
      "KNN Model accuracy is:  0.38205980066445183\n",
      "Decision Tree Model accuracy is:  0.30564784053156147\n",
      "RFM Model accuracy is:  0.42524916943521596\n",
      "Logistic Model accuracy is:  0.4152823920265781\n"
     ]
    },
    {
     "data": {
      "text/plain": [
       "0.4152823920265781"
      ]
     },
     "execution_count": 209,
     "metadata": {},
     "output_type": "execute_result"
    }
   ],
   "source": [
    "pred_accuracy('SVM', svm)\n",
    "pred_accuracy(\"KNN\",knn)\n",
    "pred_accuracy(\"Decision Tree\",dtc)\n",
    "pred_accuracy(\"RFM\",rf)\n",
    "pred_accuracy(\"Logistic\",logisticRegr)"
   ]
  },
  {
   "cell_type": "code",
   "execution_count": 210,
   "metadata": {},
   "outputs": [],
   "source": [
    "#Train best model\n",
    "best = SVC(kernel='linear', C=10,probability=True, random_state=42)\n",
    "best = best.fit(X_train, y_train)"
   ]
  },
  {
   "cell_type": "code",
   "execution_count": 211,
   "metadata": {},
   "outputs": [
    {
     "data": {
      "text/html": [
       "<div>\n",
       "<style scoped>\n",
       "    .dataframe tbody tr th:only-of-type {\n",
       "        vertical-align: middle;\n",
       "    }\n",
       "\n",
       "    .dataframe tbody tr th {\n",
       "        vertical-align: top;\n",
       "    }\n",
       "\n",
       "    .dataframe thead th {\n",
       "        text-align: right;\n",
       "    }\n",
       "</style>\n",
       "<table border=\"1\" class=\"dataframe\">\n",
       "  <thead>\n",
       "    <tr style=\"text-align: right;\">\n",
       "      <th></th>\n",
       "      <th>size</th>\n",
       "      <th>aspect_ratio</th>\n",
       "      <th>r_mean</th>\n",
       "      <th>r_std</th>\n",
       "      <th>g_mean</th>\n",
       "      <th>g_std</th>\n",
       "      <th>b_mean</th>\n",
       "      <th>b_std</th>\n",
       "      <th>luminance_mean</th>\n",
       "      <th>luminance_std</th>\n",
       "      <th>...</th>\n",
       "      <th>brief</th>\n",
       "      <th>orb</th>\n",
       "      <th>sift_kp</th>\n",
       "      <th>surf_kp</th>\n",
       "      <th>canny_edges</th>\n",
       "      <th>prewitt_h</th>\n",
       "      <th>prewitt_v</th>\n",
       "      <th>binarize</th>\n",
       "      <th>harris</th>\n",
       "      <th>shi_tomasi</th>\n",
       "    </tr>\n",
       "  </thead>\n",
       "  <tbody>\n",
       "    <tr>\n",
       "      <th>0</th>\n",
       "      <td>1620000</td>\n",
       "      <td>1.500000</td>\n",
       "      <td>105.980433</td>\n",
       "      <td>67.205121</td>\n",
       "      <td>106.905494</td>\n",
       "      <td>65.316848</td>\n",
       "      <td>105.590887</td>\n",
       "      <td>63.113690</td>\n",
       "      <td>107.446701</td>\n",
       "      <td>56.130446</td>\n",
       "      <td>...</td>\n",
       "      <td>898</td>\n",
       "      <td>500</td>\n",
       "      <td>3970</td>\n",
       "      <td>3274</td>\n",
       "      <td>38530</td>\n",
       "      <td>-182.307190</td>\n",
       "      <td>54.364706</td>\n",
       "      <td>0.387165</td>\n",
       "      <td>136.623414</td>\n",
       "      <td>259.62</td>\n",
       "    </tr>\n",
       "    <tr>\n",
       "      <th>1</th>\n",
       "      <td>1279200</td>\n",
       "      <td>1.500938</td>\n",
       "      <td>112.572315</td>\n",
       "      <td>89.033710</td>\n",
       "      <td>101.316091</td>\n",
       "      <td>78.646389</td>\n",
       "      <td>65.335870</td>\n",
       "      <td>60.860931</td>\n",
       "      <td>102.380433</td>\n",
       "      <td>67.857657</td>\n",
       "      <td>...</td>\n",
       "      <td>86</td>\n",
       "      <td>500</td>\n",
       "      <td>580</td>\n",
       "      <td>498</td>\n",
       "      <td>8127</td>\n",
       "      <td>-737.857516</td>\n",
       "      <td>117.811765</td>\n",
       "      <td>0.409045</td>\n",
       "      <td>106.985920</td>\n",
       "      <td>351.28</td>\n",
       "    </tr>\n",
       "  </tbody>\n",
       "</table>\n",
       "<p>2 rows × 25 columns</p>\n",
       "</div>"
      ],
      "text/plain": [
       "      size  aspect_ratio      r_mean      r_std      g_mean      g_std  \\\n",
       "0  1620000      1.500000  105.980433  67.205121  106.905494  65.316848   \n",
       "1  1279200      1.500938  112.572315  89.033710  101.316091  78.646389   \n",
       "\n",
       "       b_mean      b_std  luminance_mean  luminance_std  ...  brief  orb  \\\n",
       "0  105.590887  63.113690      107.446701      56.130446  ...    898  500   \n",
       "1   65.335870  60.860931      102.380433      67.857657  ...     86  500   \n",
       "\n",
       "   sift_kp  surf_kp  canny_edges   prewitt_h   prewitt_v  binarize  \\\n",
       "0     3970     3274        38530 -182.307190   54.364706  0.387165   \n",
       "1      580      498         8127 -737.857516  117.811765  0.409045   \n",
       "\n",
       "       harris  shi_tomasi  \n",
       "0  136.623414      259.62  \n",
       "1  106.985920      351.28  \n",
       "\n",
       "[2 rows x 25 columns]"
      ]
     },
     "execution_count": 211,
     "metadata": {},
     "output_type": "execute_result"
    }
   ],
   "source": [
    "#Load in val set\n",
    "val = pd.read_pickle('./val_features.pkl') \n",
    "val.head(2)"
   ]
  },
  {
   "cell_type": "code",
   "execution_count": 212,
   "metadata": {},
   "outputs": [],
   "source": [
    "ss= StandardScaler()\n",
    "val_stand = ss.fit_transform(val.values)"
   ]
  },
  {
   "cell_type": "code",
   "execution_count": 213,
   "metadata": {},
   "outputs": [],
   "source": [
    "# predict and save results\n",
    "test_prediction = best.predict(val_stand)"
   ]
  },
  {
   "cell_type": "code",
   "execution_count": 214,
   "metadata": {},
   "outputs": [
    {
     "data": {
      "text/plain": [
       "array([19,  1, 15,  9, 19, 14,  8,  9,  5,  2,  9, 17,  3, 11,  3, 19, 18,\n",
       "       13, 16, 17,  4, 19,  4, 14,  5,  8,  9,  5, 13, 17, 14,  8, 13,  7,\n",
       "       16, 17, 13, 17, 17,  5, 14,  9,  8, 17,  5,  6, 17,  9, 16, 13, 14,\n",
       "        4,  4,  7, 13,  4,  9,  9, 13, 13,  9,  9, 15,  9, 11,  5, 15,  8,\n",
       "       10, 16, 17,  9,  9,  9, 15, 10,  5, 16, 14, 17, 16,  2,  4,  9, 16,\n",
       "       18,  1, 16,  5,  2, 14,  3,  3,  3,  3, 17, 14,  3, 14,  9,  9,  3,\n",
       "        3,  3, 14,  3,  3,  3, 11,  3, 12,  4,  9, 12, 12, 12, 12, 12, 12,\n",
       "       12, 12, 12, 12,  8, 12, 12, 12, 12, 12, 12, 12, 12, 12, 12, 14, 12,\n",
       "       12, 12, 12, 12, 12, 12, 12,  1, 12,  1, 14, 18,  3,  9,  9,  9, 14,\n",
       "       14, 10, 15,  9,  9, 17, 13,  2,  5,  4,  7, 18,  7,  5, 17, 15, 16,\n",
       "       14, 13, 18,  9,  5, 13,  7, 10, 19, 13, 13, 13,  9, 10, 14, 13, 10,\n",
       "       14, 10,  1,  9, 19,  4, 13, 13,  8, 13,  9,  9, 13,  1,  1,  9, 15,\n",
       "        9, 18, 13,  5,  5,  9,  9,  9,  9,  6,  1,  6,  0,  0,  2,  0,  0,\n",
       "        0, 14, 14,  0,  0,  0,  0,  0,  2,  9, 17,  5,  1,  8,  5,  4, 12,\n",
       "       12, 12,  9, 12, 12, 12, 12, 14, 16, 12, 12, 12, 12, 12, 12, 12, 12,\n",
       "       12,  8, 12, 10, 10, 10, 10, 10,  1, 18, 13, 15,  8,  9, 15,  4, 16,\n",
       "        1, 10, 10, 19, 10,  4,  4,  1, 10, 13, 19,  7,  5, 13,  1, 14, 17,\n",
       "        8,  8,  3, 19, 14,  9,  9,  5,  5,  7,  7, 15, 15,  9, 12, 16, 10,\n",
       "       16,  8, 16, 16, 16, 14, 17, 16,  4,  5, 16,  4, 16, 14,  5,  3,  9,\n",
       "        3,  3,  3,  3,  3, 14, 19,  3, 16, 16,  3,  9,  3,  3,  3,  8,  1,\n",
       "       11,  5,  6, 13,  6,  1,  9, 15, 16,  5,  5, 16,  7,  1, 13,  9,  5,\n",
       "       17,  7,  8,  7, 14,  9,  9, 14, 14,  9,  5,  1, 14,  1, 17, 17, 14,\n",
       "        6,  6, 11, 17, 12,  3,  6, 11, 11,  6,  6,  5, 19,  2, 19, 14,  3,\n",
       "        9,  9,  9,  9,  9,  9,  9, 14,  9,  1,  9,  9, 15,  8,  5, 15,  9,\n",
       "        9,  9,  9,  9, 14,  1,  9,  8,  9,  9,  8, 14,  1,  9, 13,  9,  3,\n",
       "        1,  4,  9,  5,  9, 19,  9,  1,  7, 19,  9,  9,  9,  1, 14,  9,  9,\n",
       "       18,  9,  3, 19,  9,  1, 14, 16,  9, 18,  9,  9,  9, 10,  9,  9,  9,\n",
       "        3,  9,  9,  8,  1,  4, 16, 13, 13,  9, 14, 10,  9,  9,  2,  5, 10,\n",
       "        4, 10, 17,  1, 17,  4, 13, 13,  4,  4,  4,  4, 15, 19,  4,  4,  2,\n",
       "        5,  4, 14,  6,  7, 14,  9,  7,  2,  5, 14, 17,  5,  2, 17,  1, 11,\n",
       "       11, 14, 17,  6, 17,  5,  0,  0,  0,  0,  6,  2,  1,  2,  0,  0,  0,\n",
       "        0,  0,  0,  2,  0,  2,  9,  0,  0,  0,  2,  2,  2,  0,  0,  0,  0,\n",
       "       19,  0,  0,  0,  2,  0,  2,  0,  0,  4, 15, 18, 17,  7, 17, 19,  8,\n",
       "        1, 16, 14,  5,  1, 17, 10,  5,  5,  7,  9,  8, 13, 13,  1,  4, 18,\n",
       "       10,  7,  9,  8,  1, 14,  8,  4, 17, 15,  9, 17, 17,  9,  6,  6,  6,\n",
       "       11,  6,  3,  0,  6, 13,  6, 14, 11,  4,  6,  9, 17,  6,  2,  2, 19,\n",
       "        2,  6,  6,  4,  6, 11,  6, 18,  6,  6, 15,  6, 15,  9,  8, 10, 17,\n",
       "        5, 15,  7, 18, 19,  5, 18,  7,  8, 17,  1,  9, 18,  7,  4, 19, 14,\n",
       "        9, 17,  6, 14,  5, 16, 19,  7, 10,  4, 18, 13,  1, 10, 15,  6,  1,\n",
       "        1,  9,  6, 18,  9, 14,  6,  1, 11,  1, 14, 14,  3,  4,  3,  4, 11,\n",
       "       17, 14,  2, 11, 11,  0,  7,  1, 14,  7,  7, 19, 15, 10,  7, 12,  7,\n",
       "       14, 16,  9,  7, 13,  9,  2,  7, 14,  7,  9, 13, 16,  5, 14,  8, 15,\n",
       "       13,  9])"
      ]
     },
     "execution_count": 214,
     "metadata": {},
     "output_type": "execute_result"
    }
   ],
   "source": [
    "test_prediction"
   ]
  },
  {
   "cell_type": "code",
   "execution_count": 217,
   "metadata": {},
   "outputs": [],
   "source": [
    "pd.DataFrame(test_prediction).to_csv('./predictions.csv', index=False, header=False)"
   ]
  },
  {
   "cell_type": "code",
   "execution_count": null,
   "metadata": {},
   "outputs": [],
   "source": []
  }
 ],
 "metadata": {
  "kernelspec": {
   "display_name": "Python 3",
   "language": "python",
   "name": "python3"
  },
  "language_info": {
   "codemirror_mode": {
    "name": "ipython",
    "version": 3
   },
   "file_extension": ".py",
   "mimetype": "text/x-python",
   "name": "python",
   "nbconvert_exporter": "python",
   "pygments_lexer": "ipython3",
   "version": "3.7.4"
  }
 },
 "nbformat": 4,
 "nbformat_minor": 2
}
